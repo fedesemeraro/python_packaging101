{
 "cells": [
  {
   "cell_type": "code",
   "execution_count": null,
   "metadata": {},
   "outputs": [],
   "source": [
    "from packaging101 import fastfactorial, slowfactorial\n",
    "\n",
    "print(f\"Slow factorial: {slowfactorial(10)}\")\n",
    "print(f\"Fast factorial: {fastfactorial(10)}\")"
   ]
  }
 ],
 "metadata": {
  "kernelspec": {
   "display_name": "packaging101",
   "language": "python",
   "name": "python3"
  },
  "language_info": {
   "name": "python",
   "version": "3.12.2"
  }
 },
 "nbformat": 4,
 "nbformat_minor": 2
}
